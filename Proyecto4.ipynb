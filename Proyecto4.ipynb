{
 "cells": [
  {
   "cell_type": "code",
   "execution_count": null,
   "id": "b76cf978-b866-4a92-bde9-c8ae42dd0c81",
   "metadata": {},
   "outputs": [],
   "source": [
    "## URL AL VIDEO DE EXPLICACIÓN"
   ]
  },
  {
   "cell_type": "code",
   "execution_count": null,
   "id": "a1240598-fd01-485b-a3a3-fc9efa0ff64a",
   "metadata": {},
   "outputs": [],
   "source": [
    "https://youtu.be/Eekr0WcOWYg"
   ]
  },
  {
   "cell_type": "code",
   "execution_count": null,
   "id": "a8134cf4-3538-4fec-82d1-1f6255b9366d",
   "metadata": {},
   "outputs": [],
   "source": [
    "## Explicación detallada del codigo"
   ]
  },
  {
   "cell_type": "code",
   "execution_count": null,
   "id": "a6bc25a4-53f4-4f40-83de-c84568bb0de8",
   "metadata": {},
   "outputs": [],
   "source": [
    "1.- Función scrape_info(url, filename):\n",
    "\n",
    "    La función recibe dos parámetros:\n",
    "        url: dirección web que se va a procesar.\n",
    "        filename: archivo donde se guardará la información extraída.\n",
    "    Realiza una solicitud HTTP a la URL utilizando la biblioteca requests. Si la solicitud es exitosa, procesa el contenido de la página con BeautifulSoup para analizar su HTML.\n",
    "    Extrae:\n",
    "        El título de la página (si existe).\n",
    "        Todo el contenido de los párrafos (<p>) no vacíos. Si no se encuentran párrafos, se indica que no hay contenido disponible.\n",
    "        Escribe la información extraída en el archivo especificado, organizándola con un formato claro.\n",
    "\n",
    "2.- Manejo de errores:\n",
    "\n",
    "    Captura excepciones relacionadas con problemas en la solicitud, como tiempos de espera o errores HTTP.\n",
    "    Maneja errores generales para evitar que el programa se detenga inesperadamente.\n",
    "\n",
    "3.- Procesamiento de múltiples URLs:\n",
    "\n",
    "    Define una lista de URLs relacionadas con temas específicos (por ejemplo, la reforma judicial en México).\n",
    "    Usa un bucle for para aplicar la función scrape_info a cada URL y guardar la información extraída en el archivo informacion_scraping.txt."
   ]
  },
  {
   "cell_type": "code",
   "execution_count": null,
   "id": "1ef3fb61-361f-4ed2-a62d-1c21e5c56df5",
   "metadata": {},
   "outputs": [],
   "source": [
    "## Imports"
   ]
  },
  {
   "cell_type": "code",
   "execution_count": null,
   "id": "63ad997a-25d3-4f5e-bcd5-016ba6fccd31",
   "metadata": {},
   "outputs": [],
   "source": [
    "import requests\n",
    "from bs4 import BeautifulSoup\n",
    "import pandas as pd\n",
    "import certifi"
   ]
  },
  {
   "cell_type": "code",
   "execution_count": null,
   "id": "46c2ffd2-0b23-4ed7-a4dc-f6f508ebaa17",
   "metadata": {},
   "outputs": [],
   "source": [
    "def scrape_info(url, filename):\n",
    "    try:\n",
    "        response = requests.get(url, timeout=10)\n",
    "        response.raise_for_status()  # Verifica si la solicitud fue exitosa\n",
    "        soup = BeautifulSoup(response.text, 'html.parser')\n",
    "\n",
    "        # Intenta extraer el título\n",
    "        title = soup.find('title').text if soup.find('title') else 'Sin título'\n",
    "        # Extraer párrafos\n",
    "        paragraphs = [p.text.strip() for p in soup.find_all('p') if p.text.strip()]\n",
    "\n",
    "        if not paragraphs:\n",
    "            paragraphs = ['No se encontraron párrafos en la página.']\n",
    "\n",
    "        # Guardar en el archivo\n",
    "        with open(filename, 'a', encoding='utf-8') as file:\n",
    "            file.write(f\"URL: {url}\\n\")\n",
    "            file.write(f\"Título: {title}\\n\\n\")\n",
    "            file.write(\"\\n\".join(paragraphs))\n",
    "            file.write('\\n' + '-'*80 + '\\n')\n",
    "\n",
    "        print(f\"Información de {url} guardada en {filename}\")\n",
    "\n",
    "    except requests.exceptions.RequestException as e:\n",
    "        print(f\"Error al realizar la solicitud a {url}: {e}\")\n",
    "    except Exception as e:\n",
    "        print(f\"Error al procesar la información de {url}: {e}\")\n",
    "\n",
    "# Lista de URLs\n",
    "urls = [\n",
    "    'https://prime.tirant.com/mx/actualidad-prime/reforma-judicial/',\n",
    "    'https://www.gob.mx/presidencia/prensa/reforma-al-poder-judicial-es-la-lucha-del-pueblo-de-mexico-contra-la-corrupcion-y-el-nepotismo-presidenta-claudia-sheinbaum',\n",
    "    'https://www.reformajudicial.gob.mx/secciones/reforma/',\n",
    "    'https://elpais.com/mexico/2024-09-11/que-dice-la-reforma-judicial-y-que-sigue-tras-su-aprobacion-en-el-senado.html',\n",
    "    'http://sistemamexiquense.mx/noticia/adios-organismos-autonomos-aprueban-su-desaparicion18-congresos-estatales',\n",
    "    'https://coparmex.org.mx/que-perdemos-con-la-desaparicion-de-los-organismos-autonomos-derechos-transparencia-y-prograso/',\n",
    "    'https://cnnespanol.cnn.com/2024/11/13/organismos-autonomos-desapareceran-mexico-orix',\n",
    "    'https://imco.org.mx/desaparicion-de-organos-autonomos/',\n",
    "    'https://animalpolitico.com/verificacion-de-hechos/te-explico/comites-evaluacion-reforma-judicial',\n",
    "    'https://animalpolitico.com/politica/sheinbaum-defensorias-publicas-fiscalias-iniciativa',\n",
    "    'https://agendaestadodederecho.com/jueces-sin-rostro-en-mexico/',\n",
    "    'https://www.eleconomista.com.mx/economia/Como-impactara-la-reforma-al-Poder-Judicial-a-la-economia-de-Mexico-20240915-0032.html',\n",
    "]\n",
    "\n",
    "# Nombre del archivo donde se guardará la información\n",
    "filename = './informacion_scraping.txt'\n",
    "\n",
    "# Procesar cada URL\n",
    "for url in urls:\n",
    "    scrape_info(url, filename)"
   ]
  },
  {
   "cell_type": "code",
   "execution_count": null,
   "id": "5911f1bc-03d1-476c-8933-2bcc3f5fd845",
   "metadata": {},
   "outputs": [],
   "source": [
    "## Explicación detallada del codigo"
   ]
  },
  {
   "cell_type": "code",
   "execution_count": null,
   "id": "6ffc7c47-ae0e-41b9-a411-e079950aa9e6",
   "metadata": {},
   "outputs": [],
   "source": [
    "1.- Función filtrar_informacion(input_file, output_file, keywords):\n",
    "\n",
    "    - La función recibe tres parámetros:\n",
    "        input_file: archivo que contiene la información original.\n",
    "        output_file: archivo donde se guardarán las líneas filtradas.\n",
    "        keywords: lista de palabras clave que determinan qué líneas son relevantes.\n",
    "    - Abre ambos archivos de manera segura con la instrucción with:\n",
    "        Lee todas las líneas del archivo de entrada.\n",
    "        Verifica si cada línea contiene alguna de las palabras clave, independientemente de mayúsculas o minúsculas.\n",
    "        Guarda las líneas relevantes en una lista.\n",
    "\n",
    "2.- Almacenamiento de información filtrada:\n",
    "\n",
    "    Si se encuentran líneas relevantes, estas se escriben en el archivo de salida.\n",
    "    Si no hay coincidencias, se informa al usuario que no se encontró información relevante.\n",
    "\n",
    "Manejo de errores:\n",
    "\n",
    "    Si el archivo de entrada no existe, lanza un error controlado (FileNotFoundError) con un mensaje claro.\n",
    "    Maneja cualquier otro error inesperado durante el proceso, lo que garantiza que el programa no se detenga abruptamente.\n",
    "\n",
    "Ejecución del script:\n",
    "\n",
    "    Fuera de la función, se define una lista de palabras clave relacionadas con temas como la reforma judicial, corrupción y autonomía. Estas palabras clave permiten filtrar la información según su relevancia temática.\n",
    "    Se especifican los nombres del archivo de entrada (informacion_scraping.txt) y el archivo de salida (informacion_filtrada.txt).\n",
    "    La función se ejecuta para procesar el archivo de entrada y generar un archivo con solo las líneas relevantes."
   ]
  },
  {
   "cell_type": "code",
   "execution_count": null,
   "id": "296b7e20-0d7a-491c-9e3d-ec9cac48748b",
   "metadata": {},
   "outputs": [],
   "source": [
    "def filtrar_informacion(input_file, output_file, keywords):\n",
    "    \"\"\"\n",
    "    Filtra la información de un archivo manteniendo solo las líneas que contienen palabras clave.\n",
    "\n",
    "    :param input_file: Nombre del archivo de entrada con la información original.\n",
    "    :param output_file: Nombre del archivo donde se guardará la información filtrada.\n",
    "    :param keywords: Lista de palabras clave para determinar relevancia.\n",
    "    \"\"\"\n",
    "    try:\n",
    "        with open(input_file, 'r', encoding='utf-8') as infile, open(output_file, 'w', encoding='utf-8') as outfile:\n",
    "            lines = infile.readlines()\n",
    "            relevant_lines = []\n",
    "\n",
    "            for line in lines:\n",
    "                # Si alguna palabra clave está en la línea, se considera relevante\n",
    "                if any(keyword.lower() in line.lower() for keyword in keywords):\n",
    "                    relevant_lines.append(line)\n",
    "\n",
    "            if relevant_lines:\n",
    "                outfile.writelines(relevant_lines)\n",
    "                print(f\"Información relevante guardada en {output_file}\")\n",
    "            else:\n",
    "                print(\"No se encontró información relevante.\")\n",
    "\n",
    "    except FileNotFoundError:\n",
    "        print(f\"El archivo {input_file} no existe.\")\n",
    "    except Exception as e:\n",
    "        print(f\"Error al filtrar la información: {e}\")\n",
    "\n",
    "# Palabras clave relacionadas con el tema\n",
    "keywords = [\n",
    "    'reforma judicial', 'organismos autónomos', 'nepotismo', 'corrupción', \n",
    "    'senado', 'magistrados', 'poder judicial', 'constitución', 'autonomía'\n",
    "]\n",
    "\n",
    "# Archivos de entrada y salida\n",
    "input_file = './informacion_scraping.txt'\n",
    "output_file = './informacion_filtrada.txt'\n",
    "\n",
    "# Ejecutar el filtrado\n",
    "filtrar_informacion(input_file, output_file, keywords)\n"
   ]
  },
  {
   "cell_type": "code",
   "execution_count": null,
   "id": "f1cf03b7-9974-4900-86c4-ed4e5df8a060",
   "metadata": {},
   "outputs": [],
   "source": [
    "# Analisis ChatGPT sobre las preguntas de la Ley del Poder Judicial"
   ]
  },
  {
   "cell_type": "code",
   "execution_count": null,
   "id": "0a174643-4bde-4a9c-b9c6-80a0356db7c8",
   "metadata": {},
   "outputs": [],
   "source": [
    "1.- ¿El diagnóstico de la ley al poder judicial es conocido y qué estudios expertos se tuvieron en cuenta? \n",
    "    El diagnóstico se enfoca en problemáticas como la corrupción, el nepotismo y la falta de transparencia en el Poder Judicial. \n",
    "    Fue sustentado, entre otros, en investigaciones como la de \"El poder familiar de la federación\" (2018), \n",
    "    que detalla redes familiares en los tribunales. No se menciona un análisis integral reciente que haya incorporado \n",
    "    estudios internacionales o consultas amplias.\n",
    "\n",
    "2.- ¿Por qué la reforma no incluyó a las fiscalías y a la defensoría, limitándose solo al poder judicial? \n",
    "    El documento no explica explícitamente esta limitación. Sin embargo, la reforma se centra en modificar el marco constitucional y \n",
    "    estructural del Poder Judicial, dejando fuera áreas como las fiscalías y defensorías, posiblemente por ser consideradas órganos \n",
    "    autónomos o ejecutivos.\n",
    "\n",
    "3.- ¿Qué medidas concretas se implementarán para evitar la captación del crimen organizado y la violencia en el contexto electoral? \n",
    "    La reforma incluye medidas como la preservación de la identidad de jueces en casos de delincuencia organizada y la facultad del \n",
    "    Órgano de Administración Judicial para garantizar la seguridad de los juzgadores. Estas acciones buscan mitigar los riesgos asociados \n",
    "    con la violencia electoral y la influencia del crimen organizado.\n",
    "\n",
    "4.- ¿Cómo garantizar que juristas probos y honestos se animen a competir públicamente frente a los riesgos de la violencia? \n",
    "    Las medidas de protección, como la seguridad y anonimato para jueces, podrían ser incentivos. Sin embargo, el archivo no \n",
    "    detalla estrategias específicas para fomentar la participación de juristas honestos más allá de estas disposiciones.\n",
    "\n",
    "5.- ¿Cómo se conforman los comités de postulación? \n",
    "    La reforma no menciona explícitamente los comités de postulación. En su lugar, establece que los cargos judiciales serán elegidos \n",
    "    mediante voto popular, gestionado por el INE.\n",
    "\n",
    "6.- ¿Cómo asegurar la carrera judicial? \n",
    "    Se mantiene la carrera judicial para personal no sujeto a elección popular, como secretarios y actuarios, reforzando principios \n",
    "    meritocráticos. Además, se prohíbe la readscripción de jueces y magistrados a otros circuitos, buscando estabilidad en los cargos.\n",
    "\n",
    "7.- ¿Cómo compatibilizar la incorporación de medidas para preservar la identidad de los jueces (\"jueces sin rostro\") con los estándares internacionales? \n",
    "    La figura de \"jueces sin rostro\" ya ha sido cuestionada por organismos como la Corte Interamericana de Derechos Humanos. Aunque la \n",
    "    reforma busca proteger a los jueces, podría entrar en conflicto con el debido proceso, el principio del juez natural y la transparencia \n",
    "    judicial.\n",
    "\n",
    "8.- ¿Cómo impactará el costo económico de esta reforma en la promoción y el acceso a la justicia? \n",
    "    La eliminación de fideicomisos no regulados y la centralización administrativa podrían mejorar la transparencia financiera. \n",
    "    Sin embargo, los costos asociados a la implementación del voto popular y la creación de nuevos órganos como el Tribunal de \n",
    "    Disciplina Judicial podrían ser significativos y restar recursos a otras áreas clave de acceso a la justicia."
   ]
  },
  {
   "cell_type": "code",
   "execution_count": null,
   "id": "62d0919a-49ad-4a01-b3a6-ff51a3c26a9d",
   "metadata": {},
   "outputs": [],
   "source": [
    "# Analisis ChatGPT sobre las preguntas de la Ley de Organismos Autónomos"
   ]
  },
  {
   "cell_type": "code",
   "execution_count": null,
   "id": "9e0d5d19-c1a5-40fe-9037-283a26b94176",
   "metadata": {},
   "outputs": [],
   "source": [
    "1.- ¿Es constitucional esta ley, considerando que algunos organismos autónomos están establecidos en la Constitución? \n",
    "    La eliminación de organismos autónomos enfrenta cuestionamientos constitucionales, ya que varios de ellos (como el INAI y el IFT) \n",
    "    están explícitamente protegidos en la Constitución. Su desaparición requeriría reformas constitucionales específicas.\n",
    "\n",
    "2.- ¿Cómo afectaría la eliminación de estos organismos a la transparencia y rendición de cuentas del gobierno? \n",
    "    La desaparición de organismos como el INAI podría reducir significativamente la transparencia y la capacidad de la sociedad para \n",
    "    exigir rendición de cuentas, al centralizar funciones en dependencias gubernamentales.\n",
    "\n",
    "3.- ¿Qué funciones críticas podrían perder independencia y control al pasar al poder ejecutivo u otras instituciones?\n",
    "    Regulación de competencia económica (COFECE).\n",
    "    Supervisión de hidrocarburos y energía (CNH y CRE).\n",
    "    Protección de datos personales y acceso a la información (INAI).\n",
    "    Regulación de telecomunicaciones (IFT). \n",
    "    Estas funciones podrían quedar sujetas a intereses políticos al depender directamente del Ejecutivo.\n",
    "\n",
    "4.- ¿Existen alternativas para mejorar la eficiencia de los organismos autónomos sin eliminarlos? \n",
    "    Sí, la eficiencia podría mejorarse mediante la optimización de procesos, auditorías externas y mayor supervisión ciudadana, \n",
    "    en lugar de centralizar sus funciones en el Ejecutivo.\n",
    "\n",
    "5.- ¿Qué sectores de la sociedad civil y grupos de interés se verían afectados por la desaparición de estos organismos?\n",
    "    Ciudadanos que dependen del acceso a información pública y la protección de datos.\n",
    "    Empresas que requieren regulación justa en mercados competitivos.\n",
    "    Académicos y ONGs que supervisan políticas sociales y educativas.\n",
    "    Sectores económicos que dependen de infraestructura energética y de telecomunicaciones."
   ]
  },
  {
   "cell_type": "code",
   "execution_count": null,
   "id": "8c93891e-50a0-4c39-859a-a4e299fe9f83",
   "metadata": {},
   "outputs": [],
   "source": [
    "# Opinion personal"
   ]
  },
  {
   "cell_type": "code",
   "execution_count": null,
   "id": "a0bc0b16-2636-4046-9556-3334b9568ba2",
   "metadata": {},
   "outputs": [],
   "source": [
    "Yo no estoy muy informado de política, pero basándome en los resultados, no me parece del todo correcto que el poder judicial esté \n",
    "proponiendo que los jueces y los magistrados sean elegidos por medio del voto popular. ¿Por qué? Porque siento que eso hace que la \n",
    "justicia deje de ser imparcial y que ahora tome aires políticos. E igualmente, en el caso de los jueces sin rostro, eso no garantiza de \n",
    "ninguna manera que los procesos sean más transparentes; al contrario, siento que pueden generar más problemas.\n",
    "En el aspecto de eliminar los organismos, se supone que, al día de hoy, estos son independientes y que son los encargados \n",
    "de vigilar la transparencia y los aspectos económicos. A ver, no hace falta ser experto en el tema para darse cuenta de que no es \n",
    "una buena idea. ¿Por qué? Porque el hecho de que estemos eliminando organismos que nos dan la confianza de que los procesos realmente \n",
    "importantes no queden en manos del gobierno obviamente va a generar desconfianza en la gente."
   ]
  }
 ],
 "metadata": {
  "kernelspec": {
   "display_name": "Python 3 (ipykernel)",
   "language": "python",
   "name": "python3"
  },
  "language_info": {
   "codemirror_mode": {
    "name": "ipython",
    "version": 3
   },
   "file_extension": ".py",
   "mimetype": "text/x-python",
   "name": "python",
   "nbconvert_exporter": "python",
   "pygments_lexer": "ipython3",
   "version": "3.10.0"
  }
 },
 "nbformat": 4,
 "nbformat_minor": 5
}
